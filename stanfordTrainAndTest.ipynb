{
  "cells": [
    {
      "cell_type": "markdown",
      "metadata": {
        "id": "view-in-github",
        "colab_type": "text"
      },
      "source": [
        "<a href=\"https://colab.research.google.com/github/Moad-S/Dog-Specie-Detector/blob/main/stanfordTrainAndTest.ipynb\" target=\"_parent\"><img src=\"https://colab.research.google.com/assets/colab-badge.svg\" alt=\"Open In Colab\"/></a>"
      ]
    },
    {
      "cell_type": "markdown",
      "source": [
        "Cloning YoloV5 repository"
      ],
      "metadata": {
        "id": "9Hslsj3oOuS1"
      }
    },
    {
      "cell_type": "code",
      "execution_count": null,
      "metadata": {
        "id": "obws8KTsC23H"
      },
      "outputs": [],
      "source": [
        "!git clone https://github.com/ultralytics/yolov5  "
      ]
    },
    {
      "cell_type": "markdown",
      "metadata": {
        "id": "bYn5DSTxFCs_"
      },
      "source": [
        "install dependencies"
      ]
    },
    {
      "cell_type": "code",
      "execution_count": null,
      "metadata": {
        "id": "j1WPpqscDc3-"
      },
      "outputs": [],
      "source": [
        "!pip install -r /content/yolov5/requirements.txt"
      ]
    },
    {
      "cell_type": "markdown",
      "metadata": {
        "id": "z54dsxybFEo_"
      },
      "source": [
        "mounting google drive in collab"
      ]
    },
    {
      "cell_type": "code",
      "execution_count": null,
      "metadata": {
        "id": "eN8EEkLtE1Qf"
      },
      "outputs": [],
      "source": [
        "from google.colab import drive\n",
        "drive.mount('/content/drive')"
      ]
    },
    {
      "cell_type": "markdown",
      "metadata": {
        "id": "b4jv-3EWFqqX"
      },
      "source": [
        "extract the dataset"
      ]
    },
    {
      "cell_type": "code",
      "execution_count": null,
      "metadata": {
        "id": "a_l3hzIyFGzm"
      },
      "outputs": [],
      "source": [
        "!unzip /content/drive/MyDrive/datasetFinale.zip -d ."
      ]
    },
    {
      "cell_type": "markdown",
      "source": [
        "Training the model using randomized starting weights"
      ],
      "metadata": {
        "id": "Kx_38QFmO6dl"
      }
    },
    {
      "cell_type": "code",
      "execution_count": null,
      "metadata": {
        "id": "fsBOFX5SHHfI"
      },
      "outputs": [],
      "source": [
        "%cd yolov5\n",
        "!python train.py --img 640 --batch 32 --epochs 30 --data dog.yaml --weights '' --cfg yolov5s.yaml"
      ]
    },
    {
      "cell_type": "markdown",
      "source": [
        "Continue the training of a pre-trained model, change the weights flag with the path of the model"
      ],
      "metadata": {
        "id": "EWE9_9uCPGkU"
      }
    },
    {
      "cell_type": "code",
      "execution_count": null,
      "metadata": {
        "id": "bMz9ht-_t50R"
      },
      "outputs": [],
      "source": [
        "#%cd yolov5\n",
        "#!python train.py --img 640 --batch 32 --epochs 40 --data dog.yaml --weights /content/best40.pt"
      ]
    },
    {
      "cell_type": "markdown",
      "source": [
        "Detection command, change the conf flag and the source flag depending on the situation "
      ],
      "metadata": {
        "id": "ae267eH6PikU"
      }
    },
    {
      "cell_type": "code",
      "execution_count": null,
      "metadata": {
        "id": "bmqIcqagTYZo"
      },
      "outputs": [],
      "source": [
        "!python /content/yolov5/detect.py --weights /content/best.pt --img 640 --conf 0.15 --source /content/doggus/Untitled4.jpg"
      ]
    }
  ],
  "metadata": {
    "colab": {
      "collapsed_sections": [],
      "name": "stanfordTrainAndTest.ipynb",
      "provenance": [],
      "include_colab_link": true
    },
    "gpuClass": "standard",
    "kernelspec": {
      "display_name": "Python 3",
      "name": "python3"
    },
    "language_info": {
      "name": "python"
    }
  },
  "nbformat": 4,
  "nbformat_minor": 0
}
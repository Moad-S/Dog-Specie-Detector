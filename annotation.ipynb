{
  "nbformat": 4,
  "nbformat_minor": 0,
  "metadata": {
    "colab": {
      "name": "annotation.ipynb",
      "provenance": [],
      "collapsed_sections": [],
      "include_colab_link": true
    },
    "kernelspec": {
      "name": "python3",
      "display_name": "Python 3"
    },
    "language_info": {
      "name": "python"
    }
  },
  "cells": [
    {
      "cell_type": "markdown",
      "metadata": {
        "id": "view-in-github",
        "colab_type": "text"
      },
      "source": [
        "<a href=\"https://colab.research.google.com/github/Moad-S/Dog-Specie-Detector/blob/main/annotation.ipynb\" target=\"_parent\"><img src=\"https://colab.research.google.com/assets/colab-badge.svg\" alt=\"Open In Colab\"/></a>"
      ]
    },
    {
      "cell_type": "markdown",
      "source": [
        "\n",
        "\n",
        "import libraries\n",
        "\n"
      ],
      "metadata": {
        "id": "VowEGAf-6wWS"
      }
    },
    {
      "cell_type": "code",
      "execution_count": null,
      "metadata": {
        "id": "lKKF8Vcw2Cm4"
      },
      "outputs": [],
      "source": [
        "import glob\n",
        "import os\n",
        "import pickle\n",
        "import random\n",
        "import shutil\n",
        "import xml.etree.ElementTree as ET\n",
        "from os import listdir, getcwd\n",
        "from os.path import join\n"
      ]
    },
    {
      "cell_type": "markdown",
      "source": [
        "mounting google drive folder into collab"
      ],
      "metadata": {
        "id": "sG-_dP6F6vLV"
      }
    },
    {
      "cell_type": "code",
      "source": [
        "from google.colab import drive\n",
        "drive.mount('/content/drive')"
      ],
      "metadata": {
        "id": "Zc-D_WOYyGLC"
      },
      "execution_count": null,
      "outputs": []
    },
    {
      "cell_type": "markdown",
      "source": [
        "extracting the standford dataset into collab\n"
      ],
      "metadata": {
        "id": "INnyyco06pYF"
      }
    },
    {
      "cell_type": "code",
      "source": [
        "!mkdir dataset\n",
        "!unzip /content/drive/MyDrive/dogdata.zip -d /content/dataset"
      ],
      "metadata": {
        "id": "LTtOrgLR6cQ3"
      },
      "execution_count": null,
      "outputs": []
    },
    {
      "cell_type": "markdown",
      "source": [
        "Adding the annotation directory and all sub directories and files into the variable \"dirs\""
      ],
      "metadata": {
        "id": "OC1TAAGjLSoL"
      }
    },
    {
      "cell_type": "code",
      "source": [
        "dirs = glob.glob('/content/dataset/annotations/Annotation' + '/*')\n",
        "classes = []"
      ],
      "metadata": {
        "id": "tOpQ_fr-2GNF"
      },
      "execution_count": null,
      "outputs": []
    },
    {
      "cell_type": "markdown",
      "source": [
        "function that returns a list of all files in a folder"
      ],
      "metadata": {
        "id": "QYPwGRwv7H3B"
      }
    },
    {
      "cell_type": "code",
      "source": [
        "def getFilesInDir(dir_path):\n",
        "    file_list = []\n",
        "    for filename in glob.glob(dir_path + '/*'):\n",
        "        if os.path.isdir(filename):\n",
        "          continue\n",
        "        file_list.append(filename)\n",
        "    return file_list"
      ],
      "metadata": {
        "id": "QnNAhZg07APQ"
      },
      "execution_count": null,
      "outputs": []
    },
    {
      "cell_type": "markdown",
      "source": [
        "function that takes the size (width, height, depth) and the bounding box coordinates (Xmin, Ymin, Xmax, Ymax)"
      ],
      "metadata": {
        "id": "o_yqwLMGJ-hw"
      }
    },
    {
      "cell_type": "code",
      "source": [
        "def convert(size, box):\n",
        "    dw = 1./(size[0])\n",
        "    dh = 1./(size[1])\n",
        "    x = (box[0] + box[1])/2.0 - 1\n",
        "    y = (box[2] + box[3])/2.0 - 1\n",
        "    w = box[1] - box[0]\n",
        "    h = box[3] - box[2]\n",
        "    x = x*dw\n",
        "    w = w*dw\n",
        "    y = y*dh\n",
        "    h = h*dh\n",
        "    return (x,y,w,h)"
      ],
      "metadata": {
        "id": "KMcwfZTW2Pfe"
      },
      "execution_count": null,
      "outputs": []
    },
    {
      "cell_type": "markdown",
      "source": [
        "A wrapper function that converts an annotation file from xlm format to Yolo format.\n",
        "\n",
        "annotation_path: full path of the annotation file\n",
        "\n",
        "output_path: path of the ouput folder\n"
      ],
      "metadata": {
        "id": "7jm5nCMeKEdk"
      }
    },
    {
      "cell_type": "code",
      "source": [
        "def convert_annotation(annotation_path,output_path):\n",
        "    basename = os.path.basename(annotation_path)\n",
        "    basename_no_ext = os.path.splitext(basename)[0]\n",
        "\n",
        "    in_file = open(annotation_path )\n",
        "    out_file = open(output_path + '/'+ basename_no_ext + '.txt', 'w')\n",
        "    tree = ET.parse(in_file)\n",
        "    root = tree.getroot()\n",
        "    size = root.find('size')\n",
        "    w = int(size.find('width').text)\n",
        "    h = int(size.find('height').text)\n",
        "\n",
        "    for obj in root.iter('object'):\n",
        "        cls = obj.find('name').text\n",
        "        if cls not in classes:\n",
        "            classes.append(cls)\n",
        "            continue\n",
        "        cls_id = classes.index(cls)\n",
        "        xmlbox = obj.find('bndbox')\n",
        "        b = (float(xmlbox.find('xmin').text), float(xmlbox.find('xmax').text), float(xmlbox.find('ymin').text), float(xmlbox.find('ymax').text))\n",
        "        bb = convert((w,h), b)\n",
        "        #print(str(cls_id) + \" \" + \" \".join([str(a) for a in bb]) + '\\n')\n",
        "        out_file.write(str(cls_id) + \" \" + \" \".join([str(a) for a in bb]) + '\\n')"
      ],
      "metadata": {
        "id": "Ic0Fnr6u2RXn"
      },
      "execution_count": null,
      "outputs": []
    },
    {
      "cell_type": "markdown",
      "source": [
        "loop that iterates through all directories of the annotation folder and convert them to the Yolo format"
      ],
      "metadata": {
        "id": "hb_HGFf8KOLW"
      }
    },
    {
      "cell_type": "code",
      "source": [
        "for dir_path in dirs:\n",
        "    annotation_paths = getFilesInDir(dir_path)\n",
        "    output_path = dir_path +'/yolo/'\n",
        "    if not os.path.exists(output_path):\n",
        "        os.makedirs(output_path)\n",
        "    for image_path in annotation_paths:\n",
        "        convert_annotation(image_path, output_path)\n",
        "    print(dir_path)"
      ],
      "metadata": {
        "id": "7V1Ww1s5-KVT"
      },
      "execution_count": null,
      "outputs": []
    },
    {
      "cell_type": "code",
      "source": [
        "print(classes)"
      ],
      "metadata": {
        "id": "ikXYYdODCLOB"
      },
      "execution_count": null,
      "outputs": []
    },
    {
      "cell_type": "code",
      "source": [
        "print(\"Finished processing: \" + dir_path)"
      ],
      "metadata": {
        "id": "JzFhxkQz2X3D"
      },
      "execution_count": null,
      "outputs": []
    },
    {
      "cell_type": "markdown",
      "source": [
        "create the folder structure for yolo "
      ],
      "metadata": {
        "id": "mtyPBQGWGNP3"
      }
    },
    {
      "cell_type": "code",
      "source": [
        "!mkdir -p data/images/train data/images/test data/images/val  data/annotations/train data/annotations/test data/annotations/val"
      ],
      "metadata": {
        "id": "hCjveqApFQqw"
      },
      "execution_count": null,
      "outputs": []
    },
    {
      "cell_type": "code",
      "source": [
        "dirs = glob.glob('/content/dataset/annotations/Annotation' + '/*')\n",
        "\n",
        "\n",
        "\n",
        "\n",
        "def getFilesInDir(dir_path):\n",
        "    file_list = []\n",
        "    for filename in glob.glob(dir_path + '/*'):\n",
        "        if os.path.isdir(filename):\n",
        "          continue\n",
        "        file_list.append(filename)\n",
        "    return file_list"
      ],
      "metadata": {
        "id": "PAEwmHm_GQz4"
      },
      "execution_count": null,
      "outputs": []
    },
    {
      "cell_type": "markdown",
      "source": [
        "function that finds the corresponding image of an annotation file "
      ],
      "metadata": {
        "id": "_9TnSEy7Ki4A"
      }
    },
    {
      "cell_type": "code",
      "source": [
        "def positionData(annotation_file_list,output_path,output_type,images_path):\n",
        "  image_list=glob.glob(images_path + '/*/*.jpg')  \n",
        "  for annotation_file in annotation_file_list:\n",
        "    base_name=os.path.basename(annotation_file)\n",
        "    file_name=os.path.splitext(base_name)[0]\n",
        "    cls_id = [i for i, item in enumerate(image_list) if item.endswith(file_name+'.jpg')][0]\n",
        "    image_file=image_list[cls_id]\n",
        "    shutil.copy2(image_file,output_path+'/images/'+output_type)\n",
        "    shutil.copy2(annotation_file,output_path+'/annotations/'+output_type)"
      ],
      "metadata": {
        "id": "pWh-tu0GKUVv"
      },
      "execution_count": null,
      "outputs": []
    },
    {
      "cell_type": "markdown",
      "source": [
        "Shuffling Yolo annotations and splitting the data to train, test and validation data, as well as putting the corresponsding images in their respective folders"
      ],
      "metadata": {
        "id": "eJh1dOJ8KrpU"
      }
    },
    {
      "cell_type": "code",
      "source": [
        "trainCoeef=0.8\n",
        "testCoeef=0.1\n",
        "valCoeef=0.1\n",
        "for dir_path in dirs:\n",
        "  yolo_annotation_paths = getFilesInDir(dir_path+'/yolo/')\n",
        "  random.shuffle(yolo_annotation_paths)\n",
        "\n",
        "  length = len(yolo_annotation_paths)\n",
        "\n",
        "  trainIndex = round(length*trainCoeef)\n",
        "  testIndex = trainIndex+round(length*testCoeef)\n",
        "\n",
        "  train_files=yolo_annotation_paths[0:trainIndex]\n",
        "  test_files=yolo_annotation_paths[trainIndex:testIndex]\n",
        "  val_files=yolo_annotation_paths[testIndex:]\n",
        "  dataOutputPath='/content/data'\n",
        "  imagesPath='/content/dataset/images/Images'\n",
        "  positionData(train_files,dataOutputPath,'train',imagesPath)\n",
        "  positionData(test_files,dataOutputPath,'test',imagesPath)\n",
        "  positionData(val_files,dataOutputPath,'val',imagesPath)\n"
      ],
      "metadata": {
        "id": "y20HNObEHXw_"
      },
      "execution_count": null,
      "outputs": []
    }
  ]
}